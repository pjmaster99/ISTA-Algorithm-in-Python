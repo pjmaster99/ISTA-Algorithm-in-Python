{
 "cells": [
  {
   "cell_type": "markdown",
   "id": "189c03bf",
   "metadata": {},
   "source": [
    "# ISTA Algorithm for deriving linear model from (x1 , y1) = (0,0) and               (x2,y2) = (1,1)"
   ]
  },
  {
   "cell_type": "markdown",
   "id": "33484773",
   "metadata": {},
   "source": [
    "### Goal : To find Beta Vector elements i.e Beta_0(Intercept) and Beta_1(slope)"
   ]
  },
  {
   "cell_type": "code",
   "execution_count": 152,
   "id": "60aac4a3",
   "metadata": {},
   "outputs": [],
   "source": [
    "%config Completer.use_jedi=False"
   ]
  },
  {
   "cell_type": "code",
   "execution_count": 78,
   "id": "329fa5f1",
   "metadata": {},
   "outputs": [],
   "source": [
    "import time\n",
    "import numpy as np\n",
    "from scipy import linalg\n",
    "import matplotlib.pyplot as plt\n",
    "\n",
    "#soft threshold function for sparsity\n",
    "def soft_thresh(x, l):\n",
    "    return np.sign(x) * np.maximum(np.abs(x) - l, 0.)\n",
    "\n",
    "\n",
    "#defining insta algorithm\n",
    "def ista(A, b, l, maxit):\n",
    "#    x= np.array([[0],[0],[0],[0],[0],[0],[0],[0]])\n",
    "    loss= []\n",
    "    x= np.array([[0],[0]])\n",
    "    time0 = time.time()\n",
    "#     for i in range(2):\n",
    "#         b[i]=[]\n",
    "#     print(time0)\n",
    "\n",
    "    b0=[]\n",
    "    b1=[]\n",
    "#     b2=[]\n",
    "#     b3=[]\n",
    "#     b4=[]\n",
    "#     b5=[]\n",
    "#     b6=[]\n",
    "#     b7=[]\n",
    "    \n",
    "    #print(x.shape)\n",
    "    A_T = A.transpose()\n",
    "    #print(A_T)\n",
    "    L = linalg.norm(A) **2\n",
    "    #print(L)\n",
    "    for _ in range(maxit):\n",
    "        x = soft_thresh(x - (np.dot(A_T , (np.dot(A,x)  - b)))* (1/L) , l/L)\n",
    "        print(x)\n",
    "        this_loss = 0.5 * linalg.norm(A.dot(x) - b) ** 2 + l * linalg.norm(x, 1)\n",
    "        loss.append((time.time() - time0, this_loss))\n",
    "        #print(pobj)\n",
    "#         for i in range(2):\n",
    "#             b[i].append(x[i])\n",
    "        \n",
    "        b0.append(x[0])\n",
    "        b1.append(x[1])\n",
    "#         b2.append(x[2])\n",
    "#         b3.append(x[3])\n",
    "#         b4.append(x[4])\n",
    "#         b5.append(x[5])\n",
    "#         b6.append(x[6])\n",
    "#         b7.append(x[7])\n",
    "    #print('This is b0 ' , b0)\n",
    "    #print('This is b1 ' , b1)\n",
    "    #print(x)\n",
    "    times, cost = map(np.array, zip(*loss))\n",
    "    #print('The value of B0 and B1 is : ')\n",
    "    return x, b0 , b1,cost, times\n",
    "#    return x, b0 , b1, b2, b3, b4 , b5 , b6 , b7 ,cost, times"
   ]
  },
  {
   "cell_type": "markdown",
   "id": "3a9332fa",
   "metadata": {},
   "source": [
    "## Printing  the value of Beta i.e Beta_0 (Intercept) and Beta_1(Slope) for each iteration in vector form obtained from the ISTA algorithm "
   ]
  },
  {
   "cell_type": "code",
   "execution_count": 79,
   "id": "e1f586ee",
   "metadata": {},
   "outputs": [
    {
     "name": "stdout",
     "output_type": "stream",
     "text": [
      "[[1 0]\n",
      " [1 1]]\n",
      "[[ 0]\n",
      " [-1]]\n",
      "[[-0.333]\n",
      " [-0.333]]\n",
      "[[-0.333]\n",
      " [-0.444]]\n",
      "[[-0.296]\n",
      " [-0.518]]\n",
      "[[-0.259     ]\n",
      " [-0.57966667]]\n",
      "[[-0.22611111]\n",
      " [-0.63311111]]\n",
      "[[-0.19733333]\n",
      " [-0.6797037 ]]\n",
      "[[-0.17220988]\n",
      " [-0.72035802]]\n",
      "[[-0.15028395]\n",
      " [-0.75583539]]\n",
      "[[-0.13114952]\n",
      " [-0.78679561]]\n",
      "[[-0.1144513]\n",
      " [-0.8138139]]\n",
      "[[-0.09987913]\n",
      " [-0.83739217]]\n",
      "[[-0.08716232]\n",
      " [-0.8579684 ]]\n",
      "[[-0.07606464]\n",
      " [-0.87592483]]\n",
      "[[-0.06637994]\n",
      " [-0.891595  ]]\n",
      "[[-0.05792831]\n",
      " [-0.90527002]]\n",
      "[[-0.05055276]\n",
      " [-0.91720391]]\n",
      "[[-0.04411628]\n",
      " [-0.92761835]]\n",
      "[[-0.03849931]\n",
      " [-0.93670681]]\n",
      "[[-0.0335975]\n",
      " [-0.9446381]]\n",
      "[[-0.0293198 ]\n",
      " [-0.95155957]]\n",
      "[[-0.02558674]\n",
      " [-0.95759978]]\n",
      "[[-0.02232899]\n",
      " [-0.96287094]]\n",
      "[[-0.01948602]\n",
      " [-0.96747096]]\n",
      "[[-0.01700502]\n",
      " [-0.9714853 ]]\n",
      "[[-0.01483991]\n",
      " [-0.97498853]]\n",
      "[[-0.01295046]\n",
      " [-0.97804572]]\n",
      "[[-0.01130158]\n",
      " [-0.98071366]]\n",
      "[[-0.00986264]\n",
      " [-0.98304191]]\n",
      "[[-0.00860691]\n",
      " [-0.98507373]]\n",
      "[[-0.00751106]\n",
      " [-0.98684685]]\n"
     ]
    }
   ],
   "source": [
    "# A = np.array([[1,0], [1,1], [1,2] , [1, 3], [1, 0.4] , [1 , 0.5] , [1, 0.3]])\n",
    "# b = np.array([[1], [-1] , [-2], [-3], [-0.4], [-0.5], [-0.3]])\n",
    "A = np.array([[1,0], [1,1]])\n",
    "b = np.array([[0], [-1]])\n",
    "#A = np.array([[np.cosh(0), np.sinh(0)], [np.cosh(1), np.sinh(1)]])\n",
    "print(A)\n",
    "#print(np.abs(A) - 1)\n",
    "#b = np.array([[1], [0.368]])\n",
    "print(b)\n",
    "# # X = np.squeeze(np.array([[1,0], [1,1]]))\n",
    "# # y = np.squeeze(np.array([[0],[1]]))\n",
    "l=0.001\n",
    "#x, b0 , b1, b2, b3, b4 , b5 , b6 , b7 , cost, times= ista(A, b, l, 50)\n",
    "x, b0,b1, cost, times = ista(A, b, l, 30)\n"
   ]
  },
  {
   "cell_type": "markdown",
   "id": "e0645943",
   "metadata": {},
   "source": [
    "## Plotting the graph between Beta_0 and Beta_1"
   ]
  },
  {
   "cell_type": "code",
   "execution_count": 80,
   "id": "e9cfee04",
   "metadata": {},
   "outputs": [
    {
     "data": {
      "text/plain": [
       "array([-0.98684685])"
      ]
     },
     "execution_count": 80,
     "metadata": {},
     "output_type": "execute_result"
    }
   ],
   "source": [
    "b1[-1]"
   ]
  },
  {
   "cell_type": "code",
   "execution_count": 84,
   "id": "127c3c71",
   "metadata": {},
   "outputs": [
    {
     "data": {
      "image/png": "[encoded data removed]",
      "text/plain": [
       "<Figure size 864x432 with 1 Axes>"
      ]
     },
     "metadata": {
      "needs_background": "light"
     },
     "output_type": "display_data"
    }
   ],
   "source": [
    "x = np.linspace(0,10,50)\n",
    "y = np.linspace(0,10,50)\n",
    "# #plt.plot(x,y)\n",
    "# for i in range(9):\n",
    "#     y = (bi[49])*(x**i)\n",
    "#y= b0[49]*np.cosh(x) + b1[49]*np.sinh(x)\n",
    "y = b0[-1] +  b1[-1]*x \n",
    "#y = b0[49] +  b1[49]*x + b2[49]*(x**2) +  b3[49]*(x**3)+ b4[49]*(x**4)+  b5[49]*(x**5)+ b6[49]*(x**6) +  b7[49]*(x**7)\n",
    "fig = plt.figure(figsize =(12, 6))\n",
    "#plt.plot(x, y , label= 'ISTA Predicted order 3')\n",
    "\n",
    "plt.plot(x, np.exp(y) , marker ='o', label= 'ISTA Predicted')\n",
    "plt.plot(x , np.exp(-x) , label = 'x = exp(-t)')\n",
    "plt.legend()\n",
    "# plt.xlim(-1, 1)\n",
    "# plt.ylim(-1,1)\n",
    "\n",
    "plt.title('Solution coamparison of ISTA and Integration for dx/dt = -x')\n",
    "plt.ylabel('$x$',fontsize=15)\n",
    "plt.xlabel('$t$',fontsize=15)\n",
    "plt.grid()\n",
    "plt.show()"
   ]
  },
  {
   "cell_type": "code",
   "execution_count": 6,
   "id": "f0de7603",
   "metadata": {},
   "outputs": [
    {
     "data": {
      "text/plain": [
       "[<matplotlib.lines.Line2D at 0x148c6e8d9d0>]"
      ]
     },
     "execution_count": 6,
     "metadata": {},
     "output_type": "execute_result"
    },
    {
     "data": {
      "image/png": "[encoded data removed]",
      "text/plain": [
       "<Figure size 432x288 with 1 Axes>"
      ]
     },
     "metadata": {
      "needs_background": "light"
     },
     "output_type": "display_data"
    }
   ],
   "source": [
    "plt.plot(x)"
   ]
  },
  {
   "cell_type": "code",
   "execution_count": 81,
   "id": "96c2cfa7",
   "metadata": {},
   "outputs": [
    {
     "data": {
      "image/png": "[encoded data removed]",
      "text/plain": [
       "<Figure size 432x288 with 1 Axes>"
      ]
     },
     "metadata": {
      "needs_background": "light"
     },
     "output_type": "display_data"
    }
   ],
   "source": [
    "plt.plot(b1, b0 ,'r')\n",
    "plt.title('Graph b/w parameters of linear model (y = b0 + b1 * x) ')\n",
    "plt.xlabel('Beta_1')\n",
    "plt.ylabel('Beta_0')\n",
    "plt.show()"
   ]
  },
  {
   "cell_type": "markdown",
   "id": "66e63e9b",
   "metadata": {},
   "source": [
    "# Plotting the value of objective function with every iteration"
   ]
  },
  {
   "cell_type": "code",
   "execution_count": 52,
   "id": "48323d9f",
   "metadata": {},
   "outputs": [
    {
     "data": {
      "image/png": "[encoded data removed]",
      "text/plain": [
       "<Figure size 432x288 with 1 Axes>"
      ]
     },
     "metadata": {
      "needs_background": "light"
     },
     "output_type": "display_data"
    }
   ],
   "source": [
    "itr  = np.arange(50)\n",
    "plt.scatter(itr,b0, c = 'b')\n",
    "plt.title('Convergence Analysis')\n",
    "plt.xlabel('iteration')\n",
    "plt.ylabel('Beta_0')\n",
    "plt.show()"
   ]
  },
  {
   "cell_type": "code",
   "execution_count": 53,
   "id": "cd8268db",
   "metadata": {},
   "outputs": [
    {
     "data": {
      "image/png": "[encoded data removed]",
      "text/plain": [
       "<Figure size 432x288 with 1 Axes>"
      ]
     },
     "metadata": {
      "needs_background": "light"
     },
     "output_type": "display_data"
    }
   ],
   "source": [
    "plt.scatter(itr,b1, c = 'g')\n",
    "plt.title('Convergence Analysis')\n",
    "plt.xlabel('iteration')\n",
    "plt.ylabel('Beta_1')\n",
    "plt.show()"
   ]
  },
  {
   "cell_type": "code",
   "execution_count": 22,
   "id": "f0e2b769",
   "metadata": {},
   "outputs": [
    {
     "data": {
      "image/png": "[encoded data removed]",
      "text/plain": [
       "<Figure size 864x432 with 1 Axes>"
      ]
     },
     "metadata": {
      "needs_background": "light"
     },
     "output_type": "display_data"
    }
   ],
   "source": [
    "fig = plt.figure( figsize = (12,6))\n",
    "itr  = np.arange(50)\n",
    "plt.scatter(itr,cost, c = 'm')\n",
    "plt.title('Convergence Analysis')\n",
    "plt.xlabel('iteration')\n",
    "plt.ylabel('Objective Function')\n",
    "plt.show()"
   ]
  },
  {
   "cell_type": "markdown",
   "id": "cc62a5d5",
   "metadata": {},
   "source": [
    "# Plotting the value of objective function with time in seconds"
   ]
  },
  {
   "cell_type": "code",
   "execution_count": 7,
   "id": "86cd52f7",
   "metadata": {},
   "outputs": [
    {
     "data": {
      "image/png": "[encoded data removed]",
      "text/plain": [
       "<Figure size 432x288 with 1 Axes>"
      ]
     },
     "metadata": {
      "needs_background": "light"
     },
     "output_type": "display_data"
    }
   ],
   "source": [
    "plt.plot(times,cost,'b')\n",
    "plt.title('Convergence Analysis')\n",
    "plt.xlabel('time in seconds')\n",
    "plt.ylabel('Objective Function')\n",
    "plt.show()"
   ]
  },
  {
   "cell_type": "code",
   "execution_count": 36,
   "id": "1519ced4",
   "metadata": {},
   "outputs": [],
   "source": [
    "import autograd\n",
    "from autograd.builtins import tuple\n",
    "import autograd.numpy as np\n",
    "\n",
    "#Import ode solver and rename as BlackBox for consistency with blog\n",
    "from scipy.integrate import odeint as BlackBox\n",
    "import matplotlib.pyplot as plt"
   ]
  },
  {
   "cell_type": "code",
   "execution_count": 37,
   "id": "fed96f23",
   "metadata": {},
   "outputs": [],
   "source": [
    "def f(y,t,theta):\n",
    "    '''Function describing dynamics of the system'''\n",
    "    S,I = y\n",
    "    ds = -theta*S*I\n",
    "    di = theta*S*I - I\n",
    "\n",
    "    return np.array([ds,di])"
   ]
  },
  {
   "cell_type": "code",
   "execution_count": 38,
   "id": "f3f43128",
   "metadata": {},
   "outputs": [],
   "source": [
    "#Jacobian of f wrt y\n",
    "J = autograd.jacobian(f,argnum=0)\n",
    "#Gradient of f wrt theta\n",
    "grad_f_theta = autograd.jacobian(f,argnum=2)"
   ]
  },
  {
   "cell_type": "code",
   "execution_count": 49,
   "id": "51deb323",
   "metadata": {},
   "outputs": [
    {
     "data": {
      "text/plain": [
       "<function tuple.index(value, start=0, stop=9223372036854775807, /)>"
      ]
     },
     "execution_count": 49,
     "metadata": {},
     "output_type": "execute_result"
    }
   ],
   "source": [
    "theta = 5.5\n",
    "arg = tuple([theta])\n",
    "arg.index"
   ]
  },
  {
   "cell_type": "code",
   "execution_count": 40,
   "id": "77c96b1f",
   "metadata": {},
   "outputs": [],
   "source": [
    "def ODESYS(Y,t,theta):\n",
    "\n",
    "    #Y will be length 4.\n",
    "    #Y[0], Y[1] are the ODEs\n",
    "    #Y[2], Y[3] are the sensitivities\n",
    "\n",
    "    #ODE\n",
    "    dy_dt = f(Y[0:2],t,theta)\n",
    "    #Sensitivities\n",
    "    grad_y_theta = J(Y[:2],t,theta)@Y[-2::] + grad_f_theta(Y[:2],t,theta)\n",
    "\n",
    "    return np.concatenate([dy_dt,grad_y_theta])"
   ]
  },
  {
   "cell_type": "code",
   "execution_count": 41,
   "id": "a8b6b31c",
   "metadata": {},
   "outputs": [],
   "source": [
    "def Cost(y_obs):\n",
    "    def cost(Y):\n",
    "        '''Squared Error Loss'''\n",
    "        n = y_obs.shape[0]\n",
    "        err = np.linalg.norm(y_obs - Y, 2, axis = 1)\n",
    "\n",
    "        return np.sum(err)/n\n",
    "\n",
    "    return cost"
   ]
  },
  {
   "cell_type": "code",
   "execution_count": 42,
   "id": "5c39b7b4",
   "metadata": {},
   "outputs": [
    {
     "name": "stdout",
     "output_type": "stream",
     "text": [
      "[[ 9.90000000e-01  1.00000000e-02  0.00000000e+00  0.00000000e+00]\n",
      " [ 9.86956354e-01  1.24838047e-02 -6.30378434e-04  6.16038527e-04]\n",
      " [ 9.83171629e-01  1.55699629e-02 -1.59719480e-03  1.53062615e-03]\n",
      " [ 9.78474327e-01  1.93965094e-02 -3.02009888e-03  2.84602974e-03]\n",
      " [ 9.72658154e-01  2.41287067e-02 -5.05105739e-03  4.69107155e-03]\n",
      " [ 9.65477631e-01  2.99620017e-02 -7.87909121e-03  7.22445996e-03]\n",
      " [ 9.56644560e-01  3.71239755e-02 -1.17334707e-02  1.06364154e-02]\n",
      " [ 9.45826613e-01  4.58741679e-02 -1.68832697e-02  1.51467046e-02]\n",
      " [ 9.32649267e-01  5.65005932e-02 -2.36308793e-02  2.09968276e-02]\n",
      " [ 9.16703209e-01  6.93111151e-02 -3.22958528e-02  2.84331579e-02]\n",
      " [ 8.97559351e-01  8.46177868e-02 -4.31854084e-02  3.76778681e-02]\n",
      " [ 8.74793886e-01  1.02712170e-01 -5.65482253e-02  4.88849721e-02]\n",
      " [ 8.48024948e-01  1.23830519e-01 -7.25109268e-02  6.20816225e-02]\n",
      " [ 8.16960983e-01  1.48109264e-01 -9.10015000e-02  7.70995810e-02]\n",
      " [ 7.81457620e-01  1.75534370e-01 -1.11672226e-01  9.35095905e-02]\n",
      " [ 7.41576190e-01  2.05891616e-01 -1.33842911e-01  1.10578874e-01]\n",
      " [ 6.97632461e-01  2.38728891e-01 -1.56491664e-01  1.27277193e-01]\n",
      " [ 6.50221699e-01  2.73343467e-01 -1.78317410e-01  1.42352655e-01]\n",
      " [ 6.00207431e-01  3.08805357e-01 -1.97882511e-01  1.54481947e-01]\n",
      " [ 5.48667603e-01  3.44021090e-01 -2.13816879e-01  1.62473089e-01]\n",
      " [ 4.96802566e-01  3.77831562e-01 -2.25036605e-01  1.65472213e-01]\n",
      " [ 4.45820540e-01  4.09127004e-01 -2.30917320e-01  1.63115877e-01]\n",
      " [ 3.96823413e-01  4.36955926e-01 -2.31372824e-01  1.55583392e-01]\n",
      " [ 3.50715250e-01  4.60606501e-01 -2.26822376e-01  1.43538004e-01]\n",
      " [ 3.08148318e-01  4.79647360e-01 -2.18067296e-01  1.27982651e-01]\n",
      " [ 2.69510086e-01  4.93926432e-01 -2.06122086e-01  1.10078583e-01]\n",
      " [ 2.34944715e-01  5.03536247e-01 -1.92048160e-01  9.09755567e-02]\n",
      " [ 2.04396828e-01  5.08759249e-01 -1.76824412e-01  7.16863352e-02]\n",
      " [ 1.77664553e-01  5.10006781e-01 -1.61268446e-01  5.30167503e-02]\n",
      " [ 1.54451445e-01  5.07762169e-01 -1.46005364e-01  3.55455195e-02]\n",
      " [ 1.34410898e-01  5.02533939e-01 -1.31471821e-01  1.96393901e-02]\n",
      " [ 1.17180299e-01  4.94821310e-01 -1.17940867e-01  5.48776703e-03]\n",
      " [ 1.02404902e-01  4.85091400e-01 -1.05555544e-01 -6.85584924e-03]\n",
      " [ 8.97528315e-02  4.73766197e-01 -9.43629398e-02 -1.74340328e-02]\n",
      " [ 7.89231999e-02  4.61216856e-01 -8.43441507e-02 -2.63515369e-02]\n",
      " [ 6.96493278e-02  4.47763062e-01 -7.54383877e-02 -3.37487777e-02]\n",
      " [ 6.16987377e-02  4.33675550e-01 -6.75610687e-02 -3.97824687e-02]\n",
      " [ 5.48712054e-02  4.19180402e-01 -6.06166616e-02 -4.46123181e-02]\n",
      " [ 4.89957911e-02  4.04464123e-01 -5.45072890e-02 -4.83925052e-02]\n",
      " [ 4.39274614e-02  3.89678867e-01 -4.91381567e-02 -5.12666657e-02]\n",
      " [ 3.95436845e-02  3.74947432e-01 -4.44207014e-02 -5.33653433e-02]\n",
      " [ 3.57412170e-02  3.60367826e-01 -4.02741730e-02 -5.48050900e-02]\n",
      " [ 3.24331999e-02  3.46017306e-01 -3.66261993e-02 -5.56886003e-02]\n",
      " [ 2.95465936e-02  3.31955892e-01 -3.34126955e-02 -5.61054783e-02]\n",
      " [ 2.70199664e-02  3.18229363e-01 -3.05774104e-02 -5.61333195e-02]\n",
      " [ 2.48016070e-02  3.04871788e-01 -2.80712737e-02 -5.58389334e-02]\n",
      " [ 2.28479298e-02  2.91907659e-01 -2.58516640e-02 -5.52795839e-02]\n",
      " [ 2.11221367e-02  2.79353654e-01 -2.38816685e-02 -5.45041771e-02]\n",
      " [ 1.95930997e-02  2.67220113e-01 -2.21293751e-02 -5.35543585e-02]\n",
      " [ 1.82344295e-02  2.55512252e-01 -2.05672206e-02 -5.24655034e-02]\n",
      " [ 1.70237020e-02  2.44231170e-01 -1.91714043e-02 -5.12675940e-02]\n",
      " [ 1.59418149e-02  2.33374672e-01 -1.79213708e-02 -4.99859865e-02]\n",
      " [ 1.49724539e-02  2.22937953e-01 -1.67993521e-02 -4.86420837e-02]\n",
      " [ 1.41016503e-02  2.12914158e-01 -1.57899748e-02 -4.72539101e-02]\n",
      " [ 1.33174112e-02  2.03294838e-01 -1.48799214e-02 -4.58366073e-02]\n",
      " [ 1.26094121e-02  1.94070331e-01 -1.40576369e-02 -4.44028600e-02]\n",
      " [ 1.19687420e-02  1.85230069e-01 -1.33130799e-02 -4.29632592e-02]\n",
      " [ 1.13876887e-02  1.76762830e-01 -1.26375081e-02 -4.15266128e-02]\n",
      " [ 1.08595598e-02  1.68656946e-01 -1.20232965e-02 -4.01002098e-02]\n",
      " [ 1.03785327e-02  1.60900468e-01 -1.14637816e-02 -3.86900469e-02]\n",
      " [ 9.93952889e-03  1.53481308e-01 -1.09531284e-02 -3.73010204e-02]\n",
      " [ 9.53810758e-03  1.46387342e-01 -1.04862176e-02 -3.59370898e-02]\n",
      " [ 9.17037359e-03  1.39606510e-01 -1.00585472e-02 -3.46014208e-02]\n",
      " [ 8.83290563e-03  1.33126873e-01 -9.66615196e-03 -3.32965004e-02]\n",
      " [ 8.52268822e-03  1.26936684e-01 -9.30553041e-03 -3.20242427e-02]\n",
      " [ 8.23705980e-03  1.21024419e-01 -8.97358599e-03 -3.07860736e-02]\n",
      " [ 7.97366325e-03  1.15378822e-01 -8.66757294e-03 -2.95830075e-02]\n",
      " [ 7.73040862e-03  1.09988926e-01 -8.38505326e-03 -2.84157092e-02]\n",
      " [ 7.50543708e-03  1.04844072e-01 -8.12385671e-03 -2.72845502e-02]\n",
      " [ 7.29709272e-03  9.99339233e-02 -7.88204836e-03 -2.61896545e-02]\n",
      " [ 7.10389687e-03  9.52484750e-02 -7.65789940e-03 -2.51309389e-02]\n",
      " [ 6.92452648e-03  9.07780583e-02 -7.44986228e-03 -2.41081478e-02]\n",
      " [ 6.75779552e-03  8.65133423e-02 -7.25654931e-03 -2.31208820e-02]\n",
      " [ 6.60263839e-03  8.24453339e-02 -7.07671357e-03 -2.21686248e-02]\n",
      " [ 6.45809627e-03  7.85653742e-02 -6.90923295e-03 -2.12507626e-02]\n",
      " [ 6.32330453e-03  7.48651350e-02 -6.75309568e-03 -2.03666045e-02]\n",
      " [ 6.19748254e-03  7.13366123e-02 -6.60738838e-03 -1.95153971e-02]\n",
      " [ 6.07992262e-03  6.79721216e-02 -6.47128335e-03 -1.86963407e-02]\n",
      " [ 5.96998414e-03  6.47642876e-02 -6.34403148e-03 -1.79085977e-02]\n",
      " [ 5.86708580e-03  6.17060366e-02 -6.22495318e-03 -1.71513034e-02]\n",
      " [ 5.77069770e-03  5.87905904e-02 -6.11342936e-03 -1.64235766e-02]\n",
      " [ 5.68033847e-03  5.60114534e-02 -6.00889778e-03 -1.57245233e-02]\n",
      " [ 5.59556816e-03  5.33624066e-02 -5.91084487e-03 -1.50532458e-02]\n",
      " [ 5.51598474e-03  5.08374976e-02 -5.81880162e-03 -1.44088469e-02]\n",
      " [ 5.44122090e-03  4.84310302e-02 -5.73233973e-03 -1.37904331e-02]\n",
      " [ 5.37093942e-03  4.61375568e-02 -5.65106622e-03 -1.31971206e-02]\n",
      " [ 5.30483129e-03  4.39518679e-02 -5.57462122e-03 -1.26280358e-02]\n",
      " [ 5.24261244e-03  4.18689838e-02 -5.50267412e-03 -1.20823197e-02]\n",
      " [ 5.18402135e-03  3.98841455e-02 -5.43492070e-03 -1.15591290e-02]\n",
      " [ 5.12881741e-03  3.79928061e-02 -5.37108132e-03 -1.10576379e-02]\n",
      " [ 5.07677843e-03  3.61906220e-02 -5.31089787e-03 -1.05770398e-02]\n",
      " [ 5.02769935e-03  3.44734452e-02 -5.25413230e-03 -1.01165478e-02]\n",
      " [ 4.98139061e-03  3.28373147e-02 -5.20056469e-03 -9.67539584e-03]\n",
      " [ 4.93767665e-03  3.12784488e-02 -5.14999151e-03 -9.25283912e-03]\n",
      " [ 4.89639493e-03  2.97932380e-02 -5.10222442e-03 -8.84815435e-03]\n",
      " [ 4.85739461e-03  2.83782370e-02 -5.05708879e-03 -8.46064022e-03]\n",
      " [ 4.82053570e-03  2.70301582e-02 -5.01442259e-03 -8.08961728e-03]\n",
      " [ 4.78568815e-03  2.57458646e-02 -4.97407542e-03 -7.73442782e-03]\n",
      " [ 4.75273077e-03  2.45223635e-02 -4.93590722e-03 -7.39443632e-03]\n",
      " [ 4.72155063e-03  2.33568002e-02 -4.89978753e-03 -7.06902891e-03]\n",
      " [ 4.69204290e-03  2.22464512e-02 -4.86559529e-03 -6.75761221e-03]]\n",
      "[[0.99       0.01      ]\n",
      " [0.98695635 0.0124838 ]\n",
      " [0.98317163 0.01556996]\n",
      " [0.97847433 0.01939651]\n",
      " [0.97265815 0.02412871]\n",
      " [0.96547763 0.029962  ]\n",
      " [0.95664456 0.03712398]\n",
      " [0.94582661 0.04587417]\n",
      " [0.93264927 0.05650059]\n",
      " [0.91670321 0.06931112]\n",
      " [0.89755935 0.08461779]\n",
      " [0.87479389 0.10271217]\n",
      " [0.84802495 0.12383052]\n",
      " [0.81696098 0.14810926]\n",
      " [0.78145762 0.17553437]\n",
      " [0.74157619 0.20589162]\n",
      " [0.69763246 0.23872889]\n",
      " [0.6502217  0.27334347]\n",
      " [0.60020743 0.30880536]\n",
      " [0.5486676  0.34402109]\n",
      " [0.49680257 0.37783156]\n",
      " [0.44582054 0.409127  ]\n",
      " [0.39682341 0.43695593]\n",
      " [0.35071525 0.4606065 ]\n",
      " [0.30814832 0.47964736]\n",
      " [0.26951009 0.49392643]\n",
      " [0.23494471 0.50353625]\n",
      " [0.20439683 0.50875925]\n",
      " [0.17766455 0.51000678]\n",
      " [0.15445144 0.50776217]\n",
      " [0.1344109  0.50253394]\n",
      " [0.1171803  0.49482131]\n",
      " [0.1024049  0.4850914 ]\n",
      " [0.08975283 0.4737662 ]\n",
      " [0.0789232  0.46121686]\n",
      " [0.06964933 0.44776306]\n",
      " [0.06169874 0.43367555]\n",
      " [0.05487121 0.4191804 ]\n",
      " [0.04899579 0.40446412]\n",
      " [0.04392746 0.38967887]\n",
      " [0.03954368 0.37494743]\n",
      " [0.03574122 0.36036783]\n",
      " [0.0324332  0.34601731]\n",
      " [0.02954659 0.33195589]\n",
      " [0.02701997 0.31822936]\n",
      " [0.02480161 0.30487179]\n",
      " [0.02284793 0.29190766]\n",
      " [0.02112214 0.27935365]\n",
      " [0.0195931  0.26722011]\n",
      " [0.01823443 0.25551225]\n",
      " [0.0170237  0.24423117]\n",
      " [0.01594181 0.23337467]\n",
      " [0.01497245 0.22293795]\n",
      " [0.01410165 0.21291416]\n",
      " [0.01331741 0.20329484]\n",
      " [0.01260941 0.19407033]\n",
      " [0.01196874 0.18523007]\n",
      " [0.01138769 0.17676283]\n",
      " [0.01085956 0.16865695]\n",
      " [0.01037853 0.16090047]\n",
      " [0.00993953 0.15348131]\n",
      " [0.00953811 0.14638734]\n",
      " [0.00917037 0.13960651]\n",
      " [0.00883291 0.13312687]\n",
      " [0.00852269 0.12693668]\n",
      " [0.00823706 0.12102442]\n",
      " [0.00797366 0.11537882]\n",
      " [0.00773041 0.10998893]\n",
      " [0.00750544 0.10484407]\n",
      " [0.00729709 0.09993392]\n",
      " [0.0071039  0.09524847]\n",
      " [0.00692453 0.09077806]\n",
      " [0.0067578  0.08651334]\n",
      " [0.00660264 0.08244533]\n",
      " [0.0064581  0.07856537]\n",
      " [0.0063233  0.07486514]\n",
      " [0.00619748 0.07133661]\n",
      " [0.00607992 0.06797212]\n",
      " [0.00596998 0.06476429]\n",
      " [0.00586709 0.06170604]\n",
      " [0.0057707  0.05879059]\n",
      " [0.00568034 0.05601145]\n",
      " [0.00559557 0.05336241]\n",
      " [0.00551598 0.0508375 ]\n",
      " [0.00544122 0.04843103]\n",
      " [0.00537094 0.04613756]\n",
      " [0.00530483 0.04395187]\n",
      " [0.00524261 0.04186898]\n",
      " [0.00518402 0.03988415]\n",
      " [0.00512882 0.03799281]\n",
      " [0.00507678 0.03619062]\n",
      " [0.0050277  0.03447345]\n",
      " [0.00498139 0.03283731]\n",
      " [0.00493768 0.03127845]\n",
      " [0.00489639 0.02979324]\n",
      " [0.00485739 0.02837824]\n",
      " [0.00482054 0.02703016]\n",
      " [0.00478569 0.02574586]\n",
      " [0.00475273 0.02452236]\n",
      " [0.00472155 0.0233568 ]\n",
      " [0.00469204 0.02224645]]\n"
     ]
    },
    {
     "data": {
      "text/plain": [
       "<matplotlib.legend.Legend at 0x148c8135e20>"
      ]
     },
     "execution_count": 42,
     "metadata": {},
     "output_type": "execute_result"
    },
    {
     "data": {
      "image/png": "[encoded data removed]",
      "text/plain": [
       "<Figure size 432x288 with 1 Axes>"
      ]
     },
     "metadata": {
      "needs_background": "light"
     },
     "output_type": "display_data"
    }
   ],
   "source": [
    "np.random.seed(19920908)\n",
    "## Generate Data\n",
    "#Initial Condition\n",
    "Y0 = np.array([0.99,0.01, 0.0, 0.0])\n",
    "#Space to compute solutions\n",
    "t = np.linspace(0,5,101)\n",
    "#True param value\n",
    "theta = 5.5\n",
    "\n",
    "sol = BlackBox(ODESYS, y0 = Y0, t = t, args = tuple([theta]))\n",
    "print(sol)\n",
    "print(sol[:,:2])\n",
    "\n",
    "#Corupt the observations with noise\n",
    "y_obs = sol[:,:2] + np.random.normal(0,0.05,size = sol[:,:2].shape)\n",
    "\n",
    "plt.scatter(t,y_obs[:,0], marker = '.', alpha = 0.5, label = 'S')\n",
    "plt.scatter(t,y_obs[:,1], marker = '.', alpha = 0.5, label = 'I')\n",
    "\n",
    "\n",
    "plt.legend()"
   ]
  },
  {
   "cell_type": "code",
   "execution_count": 43,
   "id": "611153fd",
   "metadata": {},
   "outputs": [
    {
     "name": "stdout",
     "output_type": "stream",
     "text": [
      "1.697027594337629\n",
      "3.918906027837038\n",
      "4.810038385538704\n",
      "5.251499985105974\n",
      "5.427206219478128\n",
      "5.469577060684733\n",
      "5.477446435413983\n",
      "5.479219468527155\n",
      "5.4796368171243035\n",
      "5.4797359952506035\n",
      "YYYEAAAAHHH!\n"
     ]
    }
   ],
   "source": [
    "theta_iter = 1.5\n",
    "cost = Cost(y_obs[:,:2])\n",
    "grad_C = autograd.grad(cost)\n",
    "\n",
    "maxiter = 100\n",
    "learning_rate = 1 #Big steps\n",
    "for i in range(maxiter):\n",
    "\n",
    "    sol = BlackBox(ODESYS,y0 = Y0, t = t, args = tuple([theta_iter]))\n",
    "\n",
    "    Y = sol[:,:2]\n",
    "\n",
    "    theta_iter -=learning_rate*(grad_C(Y)*sol[:,-2:]).sum()\n",
    "\n",
    "    if i%10==0:\n",
    "        print(theta_iter)\n",
    "\n",
    "print('YYYEAAAAHHH!')"
   ]
  },
  {
   "cell_type": "code",
   "execution_count": 44,
   "id": "67950f85",
   "metadata": {},
   "outputs": [
    {
     "data": {
      "text/plain": [
       "<matplotlib.legend.Legend at 0x148c7049ee0>"
      ]
     },
     "execution_count": 44,
     "metadata": {},
     "output_type": "execute_result"
    },
    {
     "data": {
      "image/png": "[encoded data removed]",
      "text/plain": [
       "<Figure size 432x288 with 1 Axes>"
      ]
     },
     "metadata": {
      "needs_background": "light"
     },
     "output_type": "display_data"
    }
   ],
   "source": [
    "sol = BlackBox(ODESYS, y0 = Y0, t = t, args = tuple([theta_iter]))\n",
    "true_sol = BlackBox(ODESYS, y0 = Y0, t = t, args = tuple([theta]))\n",
    "\n",
    "\n",
    "plt.plot(t,sol[:,0], label = 'S', color = 'C0', linewidth = 5)\n",
    "plt.plot(t,sol[:,1], label = 'I', color = 'C1', linewidth = 5)\n",
    "\n",
    "plt.scatter(t,y_obs[:,0], marker = '.', alpha = 0.5)\n",
    "plt.scatter(t,y_obs[:,1], marker = '.', alpha = 0.5)\n",
    "\n",
    "\n",
    "plt.plot(t,true_sol[:,0], label = 'Estimated ', color = 'k')\n",
    "plt.plot(t,true_sol[:,1], color = 'k')\n",
    "\n",
    "plt.legend()"
   ]
  },
  {
   "cell_type": "code",
   "execution_count": 32,
   "id": "705df56a",
   "metadata": {},
   "outputs": [],
   "source": [
    "import time\n",
    "import numpy as np\n",
    "from scipy import linalg\n",
    "import matplotlib.pyplot as plt\n",
    "\n",
    "#soft threshold function for sparsity\n",
    "def soft_thresh(x, l):\n",
    "    return np.sign(x) * np.maximum(np.abs(x) - l, 0.)\n",
    "\n",
    "\n",
    "#defining insta algorithm\n",
    "def ista(A, b, l, maxit):\n",
    "    x= np.array([[0], [0]])\n",
    "    loss= []\n",
    "    time0 = time.time()\n",
    "#     print(time0)\n",
    "    \n",
    "    b0=[]\n",
    "    b1=[]\n",
    "    #print(x.shape)\n",
    "    A_T = A.transpose()\n",
    "    #print(A_T)\n",
    "    L = linalg.norm(A) **2\n",
    "    #print(L)\n",
    "    for _ in range(maxit):\n",
    "        x = soft_thresh(x - (np.dot(A_T , (np.dot(A,x)  - b)))* (1/L) , l/L)\n",
    "        print(x)\n",
    "        this_loss = 0.5 * linalg.norm(A.dot(x) - b) ** 2 + l * linalg.norm(x, 1)\n",
    "        loss.append((time.time() - time0, this_loss))\n",
    "        #print(pobj)\n",
    "        b0.append(x[0])\n",
    "        b1.append(x[1])\n",
    "    #print('This is b0 ' , b0)\n",
    "    #print('This is b1 ' , b1)\n",
    "    times, cost = map(np.array, zip(*loss))\n",
    "    #print('The value of B0 and B1 is : ')\n",
    "    return x , b0 , b1, cost, times"
   ]
  },
  {
   "cell_type": "code",
   "execution_count": 38,
   "id": "42517a89",
   "metadata": {},
   "outputs": [
    {
     "name": "stdout",
     "output_type": "stream",
     "text": [
      "[[0.40278214]\n",
      " [0.27900425]]\n",
      "[[0.40281672]\n",
      " [0.39144476]]\n",
      "[[0.37140671]\n",
      " [0.48210382]]\n",
      "[[0.33999399]\n",
      " [0.56398482]]\n",
      "[[0.3110334 ]\n",
      " [0.63878821]]\n",
      "[[0.28452516]\n",
      " [0.70719926]]\n",
      "[[0.26027783]\n",
      " [0.76977053]]\n",
      "[[0.23809996]\n",
      " [0.82700105]]\n",
      "[[0.21781504]\n",
      " [0.87934672]]\n",
      "[[0.19926152]\n",
      " [0.92722449]]\n",
      "[[0.18229161]\n",
      " [0.97101571]]\n",
      "[[0.16677014]\n",
      " [1.01106919]]\n",
      "[[0.15257349]\n",
      " [1.04770395]]\n",
      "[[0.13958858]\n",
      " [1.08121179]]\n",
      "[[0.12771198]\n",
      " [1.11185962]]\n",
      "[[0.11684909]\n",
      " [1.13989153]]\n",
      "[[0.10691339]\n",
      " [1.16553082]]\n",
      "[[0.09782574]\n",
      " [1.18898169]]\n",
      "[[0.08951375]\n",
      " [1.21043095]]\n",
      "[[0.08191123]\n",
      " [1.23004943]]\n",
      "[[0.07495761]\n",
      " [1.2479934 ]]\n",
      "[[0.0685975 ]\n",
      " [1.26440578]]\n",
      "[[0.06278026]\n",
      " [1.2794173 ]]\n",
      "[[0.05745954]\n",
      " [1.29314754]]\n",
      "[[0.05259296]\n",
      " [1.30570585]]\n",
      "[[0.04814177]\n",
      " [1.31719225]]\n",
      "[[0.0440705 ]\n",
      " [1.32769825]]\n",
      "[[0.04034672]\n",
      " [1.33730752]]\n",
      "[[0.03694079]\n",
      " [1.34609661]]\n",
      "[[0.03382557]\n",
      " [1.35413551]]\n",
      "[[0.03097624]\n",
      " [1.36148826]]\n",
      "[[0.02837011]\n",
      " [1.36821343]]\n",
      "[[0.02598643]\n",
      " [1.37436458]]\n",
      "[[0.0238062 ]\n",
      " [1.37999071]]\n",
      "[[0.02181206]\n",
      " [1.38513662]]\n",
      "[[0.01998813]\n",
      " [1.38984331]]\n",
      "[[0.01831988]\n",
      " [1.39414827]]\n",
      "[[0.01679402]\n",
      " [1.39808578]]\n",
      "[[0.0153984 ]\n",
      " [1.40168721]]\n",
      "[[0.0141219 ]\n",
      " [1.40498125]]\n",
      "[[0.01295435]\n",
      " [1.40799412]]\n",
      "[[0.01188646]\n",
      " [1.41074984]]\n",
      "[[0.01090972]\n",
      " [1.41327034]]\n",
      "[[0.01001635]\n",
      " [1.41557572]]\n",
      "[[0.00919923]\n",
      " [1.41768431]]\n",
      "[[0.00845185]\n",
      " [1.41961294]]\n",
      "[[0.00776826]\n",
      " [1.42137694]]\n",
      "[[0.00714302]\n",
      " [1.42299038]]\n",
      "[[0.00657115]\n",
      " [1.42446611]]\n",
      "[[0.00604809]\n",
      " [1.42581588]]\n"
     ]
    }
   ],
   "source": [
    "A = np.array([[1,0], [1,0.693]])\n",
    "#print(np.abs(A) - 1)\n",
    "b = np.array([[0], [1]])\n",
    "#print(b)\n",
    "# X = np.squeeze(np.array([[1,0], [1,1]]))\n",
    "# y = np.squeeze(np.array([[0],[1]]))\n",
    "l=0.001\n",
    "x, b0, b1, cost, times = ista(A, b, l, 50)\n"
   ]
  },
  {
   "cell_type": "code",
   "execution_count": 35,
   "id": "867676b2",
   "metadata": {},
   "outputs": [
    {
     "data": {
      "image/png": "[encoded data removed]",
      "text/plain": [
       "<Figure size 432x288 with 1 Axes>"
      ]
     },
     "metadata": {
      "needs_background": "light"
     },
     "output_type": "display_data"
    }
   ],
   "source": [
    "import numpy as np\n",
    "from scipy.integrate import odeint\n",
    "import matplotlib.pyplot as plt\n",
    "\n",
    "# function that returns dy/dt\n",
    "def model(y,t):\n",
    "    k = 1\n",
    "    dydt = -k * y\n",
    "    return dydt\n",
    "\n",
    "# initial condition\n",
    "y0 = 1\n",
    "\n",
    "# time points\n",
    "t = np.linspace(0,20)\n",
    "\n",
    "# solve ODE\n",
    "y = odeint(model,y0,t)\n",
    "\n",
    "# plot results\n",
    "plt.plot(t,y)\n",
    "plt.xlabel('time')\n",
    "plt.ylabel('y(t)')\n",
    "plt.show()"
   ]
  },
  {
   "cell_type": "code",
   "execution_count": null,
   "id": "0070d752",
   "metadata": {},
   "outputs": [],
   "source": []
  }
 ],
 "metadata": {
  "kernelspec": {
   "display_name": "Python 3",
   "language": "python",
   "name": "python3"
  },
  "language_info": {
   "codemirror_mode": {
    "name": "ipython",
    "version": 3
   },
   "file_extension": ".py",
   "mimetype": "text/x-python",
   "name": "python",
   "nbconvert_exporter": "python",
   "pygments_lexer": "ipython3",
   "version": "3.8.8"
  }
 },
 "nbformat": 4,
 "nbformat_minor": 5
}
